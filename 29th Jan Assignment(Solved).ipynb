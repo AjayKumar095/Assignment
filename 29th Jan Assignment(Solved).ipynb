{
 "cells": [
  {
   "cell_type": "code",
   "execution_count": 1,
   "metadata": {},
   "outputs": [
    {
     "name": "stdout",
     "output_type": "stream",
     "text": [
      " Guido van Rossum at CWI in the Netherlands\n"
     ]
    }
   ],
   "source": [
    "##_ Q1. Who developed Python Programming Language?\n",
    "print(\" Guido van Rossum at CWI in the Netherlands\")"
   ]
  },
  {
   "cell_type": "code",
   "execution_count": 2,
   "metadata": {},
   "outputs": [
    {
     "name": "stdout",
     "output_type": "stream",
     "text": [
      "Python support  data structure design and object-oriented programming\n"
     ]
    }
   ],
   "source": [
    "##_ Q2, which type of programming does python support?\n",
    "print(\"Python support  data structure design and object-oriented programming\")"
   ]
  },
  {
   "cell_type": "code",
   "execution_count": 3,
   "metadata": {},
   "outputs": [
    {
     "name": "stdout",
     "output_type": "stream",
     "text": [
      "YES! Python is case sensitive when dealing with identifier\n"
     ]
    }
   ],
   "source": [
    "##_ Q3, Is python case sensitive when dealing with identifiers?\n",
    "print(\"YES! Python is case sensitive when dealing with identifier\")"
   ]
  },
  {
   "cell_type": "code",
   "execution_count": 4,
   "metadata": {},
   "outputs": [
    {
     "name": "stdout",
     "output_type": "stream",
     "text": [
      " .py is the correct extension of the Python file\n"
     ]
    }
   ],
   "source": [
    "##_ Q4, What is the correct extension of the Python file?\n",
    "print(\" .py is the correct extension of the Python file\")"
   ]
  },
  {
   "cell_type": "code",
   "execution_count": 5,
   "metadata": {},
   "outputs": [
    {
     "name": "stdout",
     "output_type": "stream",
     "text": [
      "Python code is interpreted\n"
     ]
    }
   ],
   "source": [
    "##_ Q5, Is Python code complid or interpreted?\n",
    "print(\"Python code is interpreted\")"
   ]
  },
  {
   "cell_type": "code",
   "execution_count": 7,
   "metadata": {},
   "outputs": [
    {
     "name": "stdout",
     "output_type": "stream",
     "text": [
      "Indentation is used to define a block of code in python\n",
      "Correct Number!!\n"
     ]
    }
   ],
   "source": [
    "##_ Q6, Name a few blocks of code used to define in Python Language?\n",
    "print(\"Indentation is used to define a block of code in python\")\n",
    "rollno = '002'\n",
    "    \n",
    "if rollno == '002':\n",
    "    print('Correct Number!!')\n",
    "else:\n",
    "\tprint('InCorrect Number:(')\n"
   ]
  },
  {
   "cell_type": "code",
   "execution_count": 8,
   "metadata": {},
   "outputs": [
    {
     "name": "stdout",
     "output_type": "stream",
     "text": [
      "# is the character used to give single-line comments in Python\n"
     ]
    }
   ],
   "source": [
    "##_ Q7, State a character used to give single-line comments in Python?\n",
    "print(\"# is the character used to give single-line comments in Python\")"
   ]
  },
  {
   "cell_type": "code",
   "execution_count": 10,
   "metadata": {},
   "outputs": [
    {
     "name": "stdout",
     "output_type": "stream",
     "text": [
      " press Win+R\n",
      " type powershell\n",
      " this command open window powershell\n",
      " then type python --version ... press Enter\n",
      " here you can se the python vesion.\n"
     ]
    }
   ],
   "source": [
    "##_ Q8, Mention function which can help us to find the vesion of Python that we are curently working on?\n",
    "print(\" press Win+R\\n type powershell\\n this command open window powershell\\n then type python --version ... press Enter\\n here you can se the python vesion.\")"
   ]
  },
  {
   "cell_type": "code",
   "execution_count": 11,
   "metadata": {},
   "outputs": [
    {
     "name": "stdout",
     "output_type": "stream",
     "text": [
      "Lambda function\n"
     ]
    }
   ],
   "source": [
    "##_ Q9, Python support the creation of anonymous functions at runtime, using a construct called........?\n",
    "print(\"Lambda function\")"
   ]
  },
  {
   "cell_type": "code",
   "execution_count": 12,
   "metadata": {},
   "outputs": [
    {
     "name": "stdout",
     "output_type": "stream",
     "text": [
      "pip stand for Preferred Installs Packages\n"
     ]
    }
   ],
   "source": [
    "##_ Q10 What does pip stand for pyhton?\n",
    "print(\"pip stand for Preferred Installs Packages\")"
   ]
  },
  {
   "cell_type": "code",
   "execution_count": 13,
   "metadata": {},
   "outputs": [
    {
     "name": "stdout",
     "output_type": "stream",
     "text": [
      "1. help()\n",
      " 2. input()\n",
      " 3. len()\n",
      " 4. max()\n",
      " 5. pow()\n",
      " 6. min()\n"
     ]
    }
   ],
   "source": [
    "##_ Q11, Mention a few built-in functions in python?\n",
    "print(\"1. help()\\n 2. input()\\n 3. len()\\n 4. max()\\n 5. pow()\\n 6. min()\")"
   ]
  },
  {
   "cell_type": "code",
   "execution_count": 15,
   "metadata": {},
   "outputs": [
    {
     "name": "stdout",
     "output_type": "stream",
     "text": [
      "Maximum possible length of an identifire is 79 characters\n"
     ]
    }
   ],
   "source": [
    "##_ Q12, What is the maximum possible length of an identifire in Pyhton?\n",
    "print(\"Maximum possible length of an identifire is 79 characters\")"
   ]
  },
  {
   "cell_type": "code",
   "execution_count": 16,
   "metadata": {},
   "outputs": [
    {
     "name": "stdout",
     "output_type": "stream",
     "text": [
      "There are many benefits of using python programming language \n",
      " because pyhton is eassy to learn, there syntax is very simple as compare to other languages.\n",
      " Python is a high level language.\n",
      " There are many in bulit functions and libraries that make our codding eassy and faster.\n"
     ]
    }
   ],
   "source": [
    "##_ Q13, What are the benefits of using Python?\n",
    "print(\"There are many benefits of using python programming language \\n because pyhton is eassy to learn, there syntax is very simple as compare to other languages.\\n Python is a high level language.\\n There are many in bulit functions and libraries that make our codding eassy and faster.\")"
   ]
  },
  {
   "cell_type": "code",
   "execution_count": 18,
   "metadata": {},
   "outputs": [
    {
     "name": "stdout",
     "output_type": "stream",
     "text": [
      "python manage the memory by storing data, code and function in a spacified place in memory. \n",
      " Python can manage the the type of memory in which the data stored (Static memory allocation or Dynamic memory allocation)\n"
     ]
    }
   ],
   "source": [
    "##_ Q14, How is memory managed in Python?\n",
    "print(\"python manage the memory by storing data, code and function in a spacified place in memory. \\n Python can manage the the type of memory in which the data stored (Static memory allocation or Dynamic memory allocation)\")"
   ]
  },
  {
   "cell_type": "code",
   "execution_count": 20,
   "metadata": {},
   "outputs": [
    {
     "name": "stdout",
     "output_type": "stream",
     "text": [
      "step1: downalod the and install your preferred version of python.\n",
      " step2: GoTo Terminal and type python then press enter to check if it's already added to window path, if not...\n",
      " step3: From the search bar type python.exe and the right click on python.exe file and select open file location and copy the path of pyhton file.\n",
      " step4: right click on PC, and select properties and then click on Advanced tab, and select Environment variables.\n",
      " step5: In environment variable select User variable menu, locate a variable called path.\n",
      " step7: paste the path of python.exe here \n",
      "follow these steps to install Python on windows and set path variables.\n"
     ]
    }
   ],
   "source": [
    "#_ Q15, How to install Python on windows and set path variables?\n",
    "print(\"step1: downalod the and install your preferred version of python.\\n step2: GoTo Terminal and type python then press enter to check if it's already added to window path, if not...\\n step3: From the search bar type python.exe and the right click on python.exe file and select open file location and copy the path of pyhton file.\\n step4: right click on PC, and select properties and then click on Advanced tab, and select Environment variables.\\n step5: In environment variable select User variable menu, locate a variable called path.\\n step7: paste the path of python.exe here \")\n",
    "print(\"follow these steps to install Python on windows and set path variables.\")"
   ]
  },
  {
   "cell_type": "code",
   "execution_count": 21,
   "metadata": {},
   "outputs": [
    {
     "name": "stdout",
     "output_type": "stream",
     "text": [
      "Yes indentation is required in python because without indentation your code can't run properly or even create errors.\n"
     ]
    }
   ],
   "source": [
    "##_ Q16, Is identation required in python?\n",
    "print(\"Yes indentation is required in python because without indentation your code can't run properly or even create errors.\")"
   ]
  },
  {
   "cell_type": "code",
   "execution_count": null,
   "metadata": {},
   "outputs": [],
   "source": []
  }
 ],
 "metadata": {
  "kernelspec": {
   "display_name": "Python 3",
   "language": "python",
   "name": "python3"
  },
  "language_info": {
   "codemirror_mode": {
    "name": "ipython",
    "version": 3
   },
   "file_extension": ".py",
   "mimetype": "text/x-python",
   "name": "python",
   "nbconvert_exporter": "python",
   "pygments_lexer": "ipython3",
   "version": "3.11.2"
  },
  "orig_nbformat": 4
 },
 "nbformat": 4,
 "nbformat_minor": 2
}
