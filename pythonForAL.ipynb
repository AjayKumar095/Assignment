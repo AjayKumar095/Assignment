{
 "cells": [
  {
   "cell_type": "code",
   "execution_count": 12,
   "metadata": {},
   "outputs": [
    {
     "name": "stdout",
     "output_type": "stream",
     "text": [
      "a is grater. 901\n"
     ]
    }
   ],
   "source": [
    "\n",
    "\"\"\"Question 1: \n",
    "\n",
    "Write a Python program to determine the largest among three numbers entered by the user.\"\"\"\n",
    "\n",
    "a=901\n",
    "b=23\n",
    "c=100\n",
    "\n",
    "## checking which number is bigger than other\n",
    "\n",
    "if a>b and a>c:\n",
    "    print('a is grater:', a)\n",
    "\n",
    "elif b>a and b>c:\n",
    "    print('b is greater:',b)\n",
    "\n",
    "else :\n",
    "    print('c is greater:',c)          "
   ]
  },
  {
   "cell_type": "code",
   "execution_count": 22,
   "metadata": {},
   "outputs": [
    {
     "name": "stdout",
     "output_type": "stream",
     "text": [
      "1600 is leap year.\n"
     ]
    }
   ],
   "source": [
    "\"\"\"Question 2:\n",
    "\n",
    "Write a Python program to check if a given year is a leap year.\"\"\"\n",
    "\n",
    "\n",
    " #Taking user input.\n",
    "year=int(input(\"Enter any year:\"))\n",
    "    \n",
    "#Checking number is leap or not.\n",
    "if (year % 4 == 0 and year % 100 != 0) or (year % 400 == 0):\n",
    "    print(f\"{year} is leap year.\")\n",
    "else:\n",
    "    print(f\"{year} is not a leap year.\")"
   ]
  },
  {
   "cell_type": "code",
   "execution_count": 9,
   "metadata": {},
   "outputs": [
    {
     "name": "stdout",
     "output_type": "stream",
     "text": [
      "1\n",
      "22\n",
      "333\n",
      "4444\n",
      "55555\n"
     ]
    }
   ],
   "source": [
    "\"\"\"Question 3:\n",
    "\n",
    "Write a Python program to print the following pattern:\n",
    "\"\"\"\n",
    "n=5\n",
    "for i in range(1, n+1):\n",
    "    print(str(i) * i)"
   ]
  },
  {
   "cell_type": "code",
   "execution_count": 2,
   "metadata": {},
   "outputs": [
    {
     "name": "stdout",
     "output_type": "stream",
     "text": [
      "*\n",
      "**\n",
      "***\n",
      "****\n",
      "*****\n"
     ]
    }
   ],
   "source": [
    "\"\"\"Question 4:\n",
    "\n",
    "Write a Python program to print the following pattern:\"\"\"\n",
    "n=5\n",
    "for i in range(1, n+1):\n",
    "    print('*' * i)"
   ]
  },
  {
   "cell_type": "code",
   "execution_count": 3,
   "metadata": {},
   "outputs": [
    {
     "name": "stdout",
     "output_type": "stream",
     "text": [
      "    *\n",
      "   **\n",
      "  ***\n",
      " ****\n",
      "*****\n"
     ]
    }
   ],
   "source": [
    "\"\"\"Question 5:\n",
    "\n",
    "Write a Python program to print the following pattern:\"\"\"\n",
    "\n",
    "n=5\n",
    "for i in range(1, n+1):\n",
    "    print(\" \" * (n-i)+'*' * i)"
   ]
  },
  {
   "cell_type": "code",
   "execution_count": null,
   "metadata": {},
   "outputs": [],
   "source": [
    "\"\"\"Question 6:\n",
    "\n",
    "Write a program that prints the numbers 1 to 100. However, for multiples of 3, print \"Fizz\" instead of the\n",
    "number. For multiples of 5, print \"Buzz\". For numbers that are multiples of both 3 and 5, print \"FizzBuzz\".\"\"\"\n",
    "\n",
    "for i in range(1, 100+1):\n",
    "    \n",
    "    if (i%3==0):\n",
    "        print(\"Fizz\")\n",
    "    \n",
    "    elif (i%5==0):\n",
    "        print(\"Buzz\")\n",
    "        \n",
    "    elif (i%3==0 and i%5==0):\n",
    "        print('FizzBuzz') \n",
    "    \n",
    "    else:\n",
    "        print(i)        \n",
    "            "
   ]
  },
  {
   "cell_type": "code",
   "execution_count": 46,
   "metadata": {},
   "outputs": [
    {
     "name": "stdout",
     "output_type": "stream",
     "text": [
      "The sum of all prime numbers up to n 17\n"
     ]
    }
   ],
   "source": [
    "\"\"\"Question 7: \n",
    "\n",
    "Write a Python program to find the sum of all prime numbers up to n.\"\"\"\n",
    "\n",
    "#Function for finding prime numbers\n",
    "def find_prime(number):\n",
    "    if number<2:\n",
    "        return False\n",
    "    for i in range(2, int(number**0.5)+1):\n",
    "        if number%i==0:\n",
    "            return False\n",
    "    return True \n",
    "#Function to prints prime numbers  \n",
    "def sum_of_primes(n):\n",
    "\n",
    "    sumofprime=0\n",
    "    for num in range(n+1):\n",
    "        if find_prime(num):\n",
    "            sumofprime+=num\n",
    "\n",
    "    return sumofprime  \n",
    "\n",
    "SUM=sum_of_primes(10)\n",
    "print(f'The sum of all prime numbers up to n {SUM}')  "
   ]
  },
  {
   "cell_type": "code",
   "execution_count": 28,
   "metadata": {},
   "outputs": [
    {
     "name": "stdout",
     "output_type": "stream",
     "text": [
      "[0, 1, 1, 2, 3, 5, 8, 13, 21, 34]\n"
     ]
    }
   ],
   "source": [
    "\n",
    "\"\"\"Question 8:\n",
    "\n",
    "Write a Python program to print the Fibonacci sequence up to n terms. The Fibonacci series is a sequence of\n",
    "numbers where each number is the sum of the two preceding ones, usually starting with 0 and 1.\"\"\"\n",
    "\n",
    "\n",
    "n=int(input(\"Enter the number of terms in series: \"))\n",
    "fib_seri=[0,1]\n",
    "for _ in range(2, n):\n",
    "    next_num=fib_seri[-1]+fib_seri[-2]\n",
    "    fib_seri.append(next_num)\n",
    "    \n",
    "print(fib_seri)\n",
    "        "
   ]
  },
  {
   "cell_type": "code",
   "execution_count": 12,
   "metadata": {},
   "outputs": [
    {
     "name": "stdout",
     "output_type": "stream",
     "text": [
      "    *\n",
      "   ***\n",
      "  *****\n",
      " *******\n",
      "*********\n"
     ]
    }
   ],
   "source": [
    "\"\"\"Question 9:\n",
    "\n",
    "Write a Python program to print the following pattern:\"\"\"\n",
    "\n",
    "n=5\n",
    "for i in range(1, n+1):\n",
    "    print(\" \" * (n-i)+'*' * (2*i-1))"
   ]
  },
  {
   "cell_type": "code",
   "execution_count": 17,
   "metadata": {},
   "outputs": [
    {
     "name": "stdout",
     "output_type": "stream",
     "text": [
      "    A \n",
      "   B B \n",
      "  C C C \n",
      " D D D D \n",
      "E E E E E \n"
     ]
    }
   ],
   "source": [
    "\"\"\"Question 10:\n",
    "\n",
    "Write a Python program to print the following pattern:\"\"\"\n",
    "\n",
    "\n",
    "def alphabet_pyramid(rows):\n",
    "    # ASCII value of 'A' is 65\n",
    "    current_char = 65\n",
    "    # Number of spaces for alignment\n",
    "    spaces = rows - 1\n",
    "\n",
    "    for i in range(1, rows + 1):\n",
    "        # Print spaces for alignment\n",
    "        print(\" \" * spaces, end=\"\")\n",
    "        \n",
    "        # Print alphabets in increasing order\n",
    "        for j in range(1, i + 1):\n",
    "            print(chr(current_char), end=\" \")\n",
    "        current_char += 1\n",
    "        print()\n",
    "        spaces -= 1\n",
    "\n",
    "rows = 5\n",
    "alphabet_pyramid(rows)\n"
   ]
  }
 ],
 "metadata": {
  "kernelspec": {
   "display_name": "Python 3",
   "language": "python",
   "name": "python3"
  },
  "language_info": {
   "codemirror_mode": {
    "name": "ipython",
    "version": 3
   },
   "file_extension": ".py",
   "mimetype": "text/x-python",
   "name": "python",
   "nbconvert_exporter": "python",
   "pygments_lexer": "ipython3",
   "version": "3.11.8"
  }
 },
 "nbformat": 4,
 "nbformat_minor": 2
}
