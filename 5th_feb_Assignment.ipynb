{
 "cells": [
  {
   "cell_type": "code",
   "execution_count": 10,
   "metadata": {},
   "outputs": [
    {
     "name": "stdout",
     "output_type": "stream",
     "text": [
      "Grade A\n"
     ]
    }
   ],
   "source": [
    "# Q1.\n",
    "# Ans. A class is a blueprint or a template for creating objects. It defines a set of data and functions and methods that the objects belonging to that class will have. Classes provide a way to encapsulate and organize code, reusability and maintainability. \n",
    "# object: An object is an instance of a class. Objects can be used to interact with and manipulate the data and behaviors defined in the class.\n",
    "class exam_result :\n",
    "    def __init__(self,marks):\n",
    "        if marks>90:\n",
    "            print(\"Grade A\")\n",
    "        elif marks<=90 and marks>75:\n",
    "              print(\"Grade B\")\n",
    "        elif marks<=75 and marks>65:\n",
    "              print(\"Grade C\")  \n",
    "        elif marks<=65 and marks>45:\n",
    "              print(\"Grade D\")       \n",
    "        else:\n",
    "            print(\"Fale\")\n",
    "ram=exam_result(98)                        "
   ]
  },
  {
   "cell_type": "code",
   "execution_count": null,
   "metadata": {},
   "outputs": [],
   "source": [
    "# Q2.\n",
    "# Ans. Following are the four pillars of OOPs programing\n",
    "# 1.Encapsulation\n",
    "# 2.Inheritance\n",
    "# 3.Polymorphism\n",
    "# 4.Abstraction"
   ]
  },
  {
   "cell_type": "code",
   "execution_count": 2,
   "metadata": {},
   "outputs": [
    {
     "data": {
      "text/plain": [
       "(91232396562, 'mohan@gmail.com', 101)"
      ]
     },
     "execution_count": 2,
     "metadata": {},
     "output_type": "execute_result"
    }
   ],
   "source": [
    "# Q3.\n",
    "# Ans. 'init' is a inbuilt function of python also known as the \"constructor\". It is used for passing data within the class. \n",
    "class student_details:\n",
    "    def __init__(self, phone_no, email_id, student_id):\n",
    "        self.phone_no= phone_no\n",
    "        self.email_id=email_id\n",
    "        self.student_id=student_id\n",
    "    def return_student_details(self):\n",
    "        return self.phone_no, self.email_id, self.student_id    \n",
    "mohan=student_details(9123239652,'mohan@gmail.com',101)\n",
    "mohan.return_student_details()    "
   ]
  },
  {
   "cell_type": "code",
   "execution_count": null,
   "metadata": {},
   "outputs": [],
   "source": [
    "# Q4.\n",
    "# Ans. In object-oriented programming (OOP), the \"self\" keyword is used to refer to the instance of a class, allowing you to access and manipulate the class's attributes and methods within its own scope. One important thing is that self is not a reserve keyword in python we can use other name or variable rather than \"self\"."
   ]
  },
  {
   "cell_type": "code",
   "execution_count": null,
   "metadata": {},
   "outputs": [],
   "source": [
    "# Q5.\n",
    "# Ans. Inheritance is a fundamental concept in object-oriented programming (OOP) that allows a new class (called the \"subclass\" or \"derived class\") to inherit attributes and methods from an existing class (called the \"superclass\" or \"base class\").\n",
    "# Type of Inheritance 1. Single Inheritance, 2. Multiple Inheritance, 3. Multilevel Inheritance, 4. Hierarchical Inheritance,  "
   ]
  }
 ],
 "metadata": {
  "kernelspec": {
   "display_name": "Python 3",
   "language": "python",
   "name": "python3"
  },
  "language_info": {
   "codemirror_mode": {
    "name": "ipython",
    "version": 3
   },
   "file_extension": ".py",
   "mimetype": "text/x-python",
   "name": "python",
   "nbconvert_exporter": "python",
   "pygments_lexer": "ipython3",
   "version": "3.11.6"
  }
 },
 "nbformat": 4,
 "nbformat_minor": 2
}
