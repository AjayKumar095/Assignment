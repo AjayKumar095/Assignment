{
 "cells": [
  {
   "cell_type": "markdown",
   "metadata": {},
   "source": [
    "<h1><center>Pandas basic</center></h1>"
   ]
  },
  {
   "cell_type": "code",
   "execution_count": null,
   "metadata": {},
   "outputs": [],
   "source": [
    "\"\"\"Q1. Create a Pandas Series that contains the following data: 4, 8, 15, 16, 23, and 42. Then, print the series.\"\"\"\n",
    "\n",
    "import pandas as pd \n",
    "\n",
    "data=[4, 8, 15, 16, 23, 42]\n",
    "\n",
    "# Creating the pandas series from the data\n",
    "pd_series=pd.Series(data)\n",
    "\n",
    "print(pd_series)  # Printing the pandas series"
   ]
  },
  {
   "cell_type": "code",
   "execution_count": null,
   "metadata": {},
   "outputs": [],
   "source": [
    "\"\"\"Q2. Create a variable of list type containing 10 elements in it, and apply pandas.Series function on the\n",
    "variable print it.\"\"\"\n",
    "\n",
    "import pandas as pd \n",
    "\n",
    "# Create a list with 10 elements\n",
    "my_list = [1, 2, 3, 4, 5, 6, 7, 8, 9, 10]\n",
    "\n",
    "# Convert the list into a Pandas Series\n",
    "my_series = pd.Series(my_list)\n",
    "\n",
    "# Print the Pandas Series\n",
    "print(my_series)"
   ]
  },
  {
   "cell_type": "code",
   "execution_count": null,
   "metadata": {},
   "outputs": [],
   "source": [
    "\"\"\"Q3. Create a Pandas DataFrame that contains the following data:\"\"\"\n",
    "\n",
    "# Creating a DataFrame from a dictionary\n",
    "data = {'Name': ['Alice', 'Bob', 'Charlie'],\n",
    "        'Age': [25, 30, 27],\n",
    "        'Gender': ['Female', 'Male', 'Female']}\n",
    "\n",
    "df = pd.DataFrame(data)\n",
    "\n",
    "print(df)"
   ]
  },
  {
   "cell_type": "markdown",
   "metadata": {},
   "source": [
    "<h3>What is ‘DataFrame’ in pandas and how is it different from pandas.series? Explain with an example.</h3>\n",
    "<p>\n",
    "A DataFrame in Pandas is a two-dimensional labeled data structure capable of holding data of different types (integers, floats, strings, etc.) in a tabular format, similar to a spreadsheet or SQL table. It consists of rows and columns, where each column can be of a different data type. You can think of a DataFrame as a collection of Series where each Series represents a column.\n",
    "\n",
    "On the other hand, a Pandas Series is a one-dimensional labeled array that can hold data of any type. It's essentially a single column of data with associated labels, called an index.</p>"
   ]
  },
  {
   "cell_type": "code",
   "execution_count": null,
   "metadata": {},
   "outputs": [],
   "source": [
    "\"\"\"Q4. What is ‘DataFrame’ in pandas and how is it different from pandas.series? Explain with an example.\"\"\"\n",
    "\n",
    "## Example\n",
    "\n",
    "import pandas as pd\n",
    "\n",
    "# Creating a dictionary for DataFrame\n",
    "data = {'Name': ['Alice', 'Bob', 'Charlie', 'David'],\n",
    "        'Age': [25, 30, 35, 40],\n",
    "        'City': ['New York', 'Los Angeles', 'Chicago', 'Houston']}\n",
    "\n",
    "# Creating a DataFrame\n",
    "df = pd.DataFrame(data)\n",
    "print(\"DataFrame:\")\n",
    "print(df)\n",
    "print(\"\\nData type of DataFrame:\")\n",
    "print(type(df))\n",
    "\n",
    "# Extracting a Series from the DataFrame\n",
    "name_series = df['Name']\n",
    "print(\"\\nSeries extracted from DataFrame:\")\n",
    "print(name_series)\n",
    "print(\"\\nData type of Series:\")\n",
    "print(type(name_series))\n"
   ]
  },
  {
   "cell_type": "markdown",
   "metadata": {},
   "source": [
    "<h3>Q5. What are some common functions you can use to manipulate data in a Pandas DataFrame? Can\n",
    "you give an example of when you might use one of these functions?</h3>\n",
    "<p><b>Answer.</b></p>\n",
    "<ul>\n",
    "  <li><b>head() and tail():</b> These functions allow you to view the first or last few rows of the DataFrame.</li>\n",
    "  <li><b>info():</b> Provides a concise summary of the DataFrame including column names, data types, and non-null counts.</li>\n",
    "  <li><b>describe():</b> Generates descriptive statistics (e.g., count, mean, min, max) for numerical columns.</li>\n",
    "  <li><b>shape:</b> Returns a tuple representing the dimensions (rows, columns) of the DataFrame.</li>\n",
    "  <li><b>loc[] and iloc[]:</b> Used for accessing rows and columns by label (loc[]) or integer position (iloc[]).</li>\n",
    "  <li><b>drop():</b> Allows you to drop rows or columns from the DataFrame.</li>\n",
    "  <li><b>fillna():</b> Fills missing values in the DataFrame with specified values.</li>\n",
    "  <li><b>groupby():</b> Groups the DataFrame by one or more columns and allows you to perform aggregate functions.</li>\n",
    "  <li><b>merge():</b> Combines two DataFrames based on a common column or index.</li>\n",
    "  <li><b>sort_values():</b> Sorts the DataFrame by one or more columns.</li>\n",
    "  <li><b>pivot_table():</b> Creates a pivot table from the DataFrame.</li>\n",
    "  <li><b>apply():</b> Applies a function along an axis of the DataFrame.</li>\n",
    "  <li><b>astype():</b> Converts the data type of a column to another data type.</li>\n",
    "  <li><b>rename():</b> Renames columns or index labels.</li>\n",
    "  <li><b>drop_duplicates():</b> Removes duplicate rows from the DataFrame.</li>\n",
    "  <li><b>to_csv() and to_excel():</b> Writes the DataFrame to a CSV or Excel file.</li>\n",
    "</ul>"
   ]
  },
  {
   "cell_type": "markdown",
   "metadata": {},
   "source": [
    "<h3>Q6. Which of the following is mutable in nature Series, DataFrame, Panel?</h3>\n",
    "<p><b>Answer.</b></p>\n",
    "<ul>\n",
    "  <li><b>Series:</b> Immutable</li>\n",
    "  <li><b>DataFrame:</b> Mutable</li>\n",
    "  <li><b>Panel:</b> Deprecated in favor of MultiIndex DataFrame</li>\n",
    "</ul>"
   ]
  },
  {
   "cell_type": "code",
   "execution_count": null,
   "metadata": {},
   "outputs": [],
   "source": [
    "\"\"\"Q7. Create a DataFrame using multiple Series. Explain with an example.\"\"\"\n",
    "import pandas as pd\n",
    "\n",
    "# Creating multiple Series\n",
    "names = pd.Series(['Alice', 'Bob', 'Charlie', 'David'])\n",
    "ages = pd.Series([25, 30, 35, 40])\n",
    "cities = pd.Series(['New York', 'Los Angeles', 'Chicago', 'Houston'])\n",
    "\n",
    "# Creating a DataFrame using the Series\n",
    "df = pd.DataFrame({'Name': names, 'Age': ages, 'City': cities})\n",
    "\n",
    "# Printing the DataFrame\n",
    "print(df)\n"
   ]
  }
 ],
 "metadata": {
  "kernelspec": {
   "display_name": "Python 3",
   "language": "python",
   "name": "python3"
  },
  "language_info": {
   "codemirror_mode": {
    "name": "ipython",
    "version": 3
   },
   "file_extension": ".py",
   "mimetype": "text/x-python",
   "name": "python",
   "nbconvert_exporter": "python",
   "pygments_lexer": "ipython3",
   "version": "3.11.6"
  }
 },
 "nbformat": 4,
 "nbformat_minor": 2
}
