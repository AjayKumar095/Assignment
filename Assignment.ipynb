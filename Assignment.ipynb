{
 "cells": [
  {
   "cell_type": "code",
   "execution_count": 60,
   "metadata": {},
   "outputs": [
    {
     "name": "stdout",
     "output_type": "stream",
     "text": [
      "For Loop: \n",
      "Use a for loop when you know in advance how many times you need to repeat a certain block of code. \n",
      "For example, when you want to iterate through elements of a list, \n",
      "perform an operation on each element, or repeat a task a specific number of times.\n",
      "for loop exapmle: printing table\n",
      "3 * 1 = 3\n",
      "3 * 2 = 6\n",
      "3 * 3 = 9\n",
      "3 * 4 = 12\n",
      "3 * 5 = 15\n",
      "3 * 6 = 18\n",
      "3 * 7 = 21\n",
      "3 * 8 = 24\n",
      "3 * 9 = 27\n",
      "3 * 10 = 30\n",
      "While Loop: \n",
      "Use a while loop when you need to repeat a block of code until a specific condition is met. \n",
      "For example, when waiting for user input, reading data from a file until the end is reached, \n",
      "or implementing a game loop that continues until a certain condition is satisfied.\n",
      "while loop exapmle: printing even number between 1 to 10\n",
      "2\n",
      "4\n",
      "6\n",
      "8\n",
      "10\n"
     ]
    }
   ],
   "source": [
    "# Question 1\n",
    "# Explain with an example each when to use a for loop and a while loop.\n",
    "print(\"For Loop:\",\"\\nUse a for loop when you know in advance how many times you need to repeat a certain block of code.\",\"\\nFor example, when you want to iterate through elements of a list,\",\"\\nperform an operation on each element, or repeat a task a specific number of times.\")\n",
    "print(\"for loop exapmle: printing table\")\n",
    "n=3\n",
    "for i in range(1,11):\n",
    "    print(n,\"*\", i, \"=\" ,i*n)\n",
    "print(\"While Loop:\",\"\\nUse a while loop when you need to repeat a block of code until a specific condition is met.\",\"\\nFor example, when waiting for user input, reading data from a file until the end is reached,\",\"\\nor implementing a game loop that continues until a certain condition is satisfied.\")\n",
    "print(\"while loop exapmle: printing even number between 1 to 10\")\n",
    "x=0\n",
    "while x<10:\n",
    "    x +=2\n",
    "    print(x)  \n",
    "  \n"
   ]
  },
  {
   "cell_type": "code",
   "execution_count": 11,
   "metadata": {},
   "outputs": [
    {
     "name": "stdout",
     "output_type": "stream",
     "text": [
      "Sum of the first 10 natural number(by for loop):-  55\n",
      "Product of the first 10 natural number(by for loop):-  3628800\n",
      "Sum of the first 10 natural number(by while loop):-  55\n",
      "Product of the first 10 natural number(by while loop):-  3628800\n"
     ]
    }
   ],
   "source": [
    "# Question 2\n",
    "#By for loop (the sum and product of the first 10 natural numbers using for loop)\n",
    "sum=0\n",
    "product=1\n",
    "for i in range(1,11):\n",
    "    sum += i\n",
    "    product *=i\n",
    "print(\"Sum of the first 10 natural number(by for loop):- \", sum) \n",
    "print(\"Product of the first 10 natural number(by for loop):- \", product)  \n",
    "\n",
    "#By while loop  (the sum and product of the first 10 natural numbers using while loop)\n",
    "\n",
    "sum=0\n",
    "product=1\n",
    "num=1\n",
    "while num<=10:\n",
    "    sum += num\n",
    "    product *=num\n",
    "    num += 1\n",
    "print(\"Sum of the first 10 natural number(by while loop):- \", sum) \n",
    "print(\"Product of the first 10 natural number(by while loop):- \", product) "
   ]
  },
  {
   "cell_type": "code",
   "execution_count": 53,
   "metadata": {},
   "outputs": [
    {
     "name": "stdout",
     "output_type": "stream",
     "text": [
      "Your electric bill is 2250.0 Rs\n"
     ]
    }
   ],
   "source": [
    "#Q3. Create a python program to compute the electricity bill for a household.\n",
    "unit=int(input(\"Enter the units you consume in last month: \"))\n",
    "if(unit<=100):\n",
    "    print(\"Your electric bill is\", unit*4.5,\"Rs\")\n",
    "elif(unit>100 and unit<=200):\n",
    "    print(\"Your electric bill is\", ((unit-100)*6)+(100*4.5), \"Rs\")\n",
    "elif(unit>200 and unit<=300):\n",
    "    print(\"Your electric bill is\",((unit-200)*10)+(100*4.5)+(100*6), \"Rs\") \n",
    "elif(unit>300):\n",
    "    print(\"Your electric bill is\",((unit-300)*20)+(100*4.5)+(100*6)+(100*10), \"Rs\")"
   ]
  },
  {
   "cell_type": "code",
   "execution_count": 50,
   "metadata": {},
   "outputs": [
    {
     "name": "stdout",
     "output_type": "stream",
     "text": [
      "By using for loop\n",
      "Printing the number which is dividible by 4 or 5 in a list by for loop.\n",
      "[8, 64, 125, 216, 512, 1000, 1728, 2744, 3375, 4096, 5832, 8000, 10648, 13824, 15625, 17576, 21952, 27000, 32768, 39304, 42875, 46656, 54872, 64000, 74088, 85184, 91125, 97336, 110592, 125000, 140608, 157464, 166375, 175616, 195112, 216000, 238328, 262144, 274625, 287496, 314432, 343000, 373248, 405224, 421875, 438976, 474552, 512000, 551368, 592704, 614125, 636056, 681472, 729000, 778688, 830584, 857375, 884736, 941192, 1000000]\n",
      "By using while loop\n",
      "Printing the number which is dividible by 4 or 5 in a list by while loop.\n",
      "[8, 64, 125, 216, 512, 1000, 1728, 2744, 3375, 4096, 5832, 8000, 10648, 13824, 15625, 17576, 21952, 27000, 32768, 39304, 42875, 46656, 54872, 64000, 74088, 85184, 91125, 97336, 110592, 125000, 140608, 157464, 166375, 175616, 195112, 216000, 238328, 262144, 274625, 287496, 314432, 343000, 373248, 405224, 421875, 438976, 474552, 512000, 551368, 592704, 614125, 636056, 681472, 729000, 778688, 830584, 857375, 884736, 941192, 1000000, 4, 5, 8, 10, 12, 15, 16, 20, 24, 25, 28, 30, 32, 35, 36, 40, 44, 45, 48, 50, 52, 55, 56, 60, 64, 65, 68, 70, 72, 75, 76, 80, 84, 85, 88, 90, 92, 95, 96, 100]\n"
     ]
    }
   ],
   "source": [
    "# Q4. Create a list of numbers from 1 to 100. Use for loop and while loop to calculate the cube of eachnumber and if the cube of that number is divisible by 4 or 5 then append that number in a list and print that list.\n",
    "print(\"By using for loop\")\n",
    "cube=[]\n",
    "result=[]\n",
    "#calculating cube of each number\n",
    "for i in range(1,101):\n",
    "    cube.append(pow(i,3)) \n",
    "print(\"Printing the number which is dividible by 4 or 5 in a list by for loop.\")\n",
    "#Checking the number is divisible by 4 or 5 and append in list (result).\n",
    "for j in cube:\n",
    "    if(j%4==0 or j%5==0):\n",
    "        result.append(j)\n",
    "print(result)\n",
    "print(\"By using while loop\")\n",
    "print(\"Printing the number which is dividible by 4 or 5 in a list by while loop.\")\n",
    "x=1\n",
    "while x<= len(cube):\n",
    "    if(x%4==0 or x%5==0):\n",
    "        result.append(x)\n",
    "    x+=1\n",
    "print(result)     "
   ]
  },
  {
   "cell_type": "code",
   "execution_count": 54,
   "metadata": {},
   "outputs": [
    {
     "name": "stdout",
     "output_type": "stream",
     "text": [
      "Vowels count in given string is  11\n"
     ]
    }
   ],
   "source": [
    "#Q5. Write a program to filter count vowels in the below-given string.\n",
    "string = \"I want to become a data scientist\"\n",
    "vowels =\"aeiou\" \n",
    "count=0\n",
    "for char in string:\n",
    "    if char in vowels:\n",
    "        count += 1\n",
    "print(\"Vowels count in given string is \",count)"
   ]
  }
 ],
 "metadata": {
  "kernelspec": {
   "display_name": "Python 3",
   "language": "python",
   "name": "python3"
  },
  "language_info": {
   "codemirror_mode": {
    "name": "ipython",
    "version": 3
   },
   "file_extension": ".py",
   "mimetype": "text/x-python",
   "name": "python",
   "nbconvert_exporter": "python",
   "pygments_lexer": "ipython3",
   "version": "3.11.6"
  }
 },
 "nbformat": 4,
 "nbformat_minor": 2
}
