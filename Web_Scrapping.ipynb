{
 "cells": [
  {
   "cell_type": "markdown",
   "metadata": {},
   "source": [
    "<h1><center>Web Scrapping</center></h1>"
   ]
  },
  {
   "cell_type": "markdown",
   "metadata": {},
   "source": [
    "<h3>Q1. What is Web Scraping? Why is it Used? Give three areas where Web Scraping is used to get data.</h3>\n",
    "<p><b>Answer</b></p>\n",
    "<p>The term web scraping is mean to scrap row data or a specific kind of data from a perticular website. It is used to collect data from website. Web scraping used in to collect images, text data for infromation (Like some kind of details), And to collect specific product information.</p>"
   ]
  },
  {
   "cell_type": "markdown",
   "metadata": {},
   "source": [
    "<h3>Q2. What are the different methods used for Web Scraping?</h3>\n",
    "<p><b>Answer:</b></p>\n",
    "<p>There are multiple methods used for web scraping:</p>\n",
    "<ul>\n",
    "<li><strong>Manual Scraping:</strong> Copying and pasting data from the website manually.</li>\n",
    "<li><strong>Using Libraraies:</strong> Pyrhon libraries like BeautifulSoup and Scrapy is used to automate the process.</li>\n",
    "<li><strong>APIs:</strong> Some website offer APIs to access their data programmatically.</li>\n",
    "</ul>"
   ]
  },
  {
   "cell_type": "markdown",
   "metadata": {},
   "source": [
    "<h3>Q3. What is Beautiful Soup? Why is it used?</h3>\n",
    "<p><b>Answer:</b></p>\n",
    "<p>Beautiful Soup is a python library used for web scraping. It provides tools for parsing HTML and XML documents, navigating the parse tree, searching for elements by various attributes, and extracting data from the web pages. Beautiful Soup is commonly used because it simplifies the process of extracting the data from the web pages.</p>"
   ]
  },
  {
   "cell_type": "markdown",
   "metadata": {},
   "source": [
    "<h3>Q4. Why is flask used in this Web Scraping project?</h3>\n",
    "<p><b>Answer:</b></p>\n",
    "<p>Flask is a lightweigth web framework for python that is commonly used in web sracping. It provides many features like Building Web Interface, APIs Development, Integration with Beautiful Soup and other Libraries.</p>"
   ]
  },
  {
   "cell_type": "markdown",
   "metadata": {},
   "source": [
    "<h3>Q5. Write the names of AWS services used in this project. Also, explain the use of each service.</h3>\n",
    "<p><b>Answer:</b></p>\n",
    "<p>In this project we use two services of AWS that is <strong>Code Pipeline</strong> and <strong>BeanStack.</strong></p><br>\n",
    "<p><strong>Code Pipeline</strong> is used to connect the github repo to the AWS beanstack to make the flow of source code.</p>\n",
    "<br>\n",
    "<p><strong>BeanStack.</strong> It is a cloud machine that provide us a CPU like configuration to run our code.</p>"
   ]
  }
 ],
 "metadata": {
  "kernelspec": {
   "display_name": "base",
   "language": "python",
   "name": "python3"
  },
  "language_info": {
   "name": "python",
   "version": "3.11.7"
  }
 },
 "nbformat": 4,
 "nbformat_minor": 2
}
