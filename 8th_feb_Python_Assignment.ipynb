{
 "cells": [
  {
   "cell_type": "code",
   "execution_count": 8,
   "metadata": {},
   "outputs": [
    {
     "name": "stdout",
     "output_type": "stream",
     "text": [
      "Circle Area: 50.24 units, Perimeter: 25.12 units\n",
      "Rectangle Area: 78 units, Perimeter: 38 units\n"
     ]
    }
   ],
   "source": [
    "# Q1. What is Abstraction in OOps? Explain with an example.\n",
    "\"\"\" Ans. Abstraction in Object-Oriented Programming (OOP) is a fundamental concept\n",
    "         that involves simplifying complex systems by representing the essential features while hiding the unnecessary details. \"\"\"\n",
    "# Example\n",
    "import abc\n",
    "class shape:\n",
    "    @abc.abstractmethod\n",
    "    def __init__(self):\n",
    "        pass\n",
    "    @abc.abstractmethod\n",
    "    def area(self):\n",
    "        pass\n",
    "    @abc.abstractmethod\n",
    "    def perimeter(self):\n",
    "        pass\n",
    "class circle(shape):\n",
    "       def __init__(self,radius):\n",
    "           self.radius=radius\n",
    "       def area(self):\n",
    "            return 3.14*self.radius*self.radius\n",
    "       def perimeter(self):\n",
    "             return 2*3.14*self.radius \n",
    "\n",
    "class rectangle(shape):\n",
    "    def __init__(self, width, height):\n",
    "       \n",
    "        self.width=width\n",
    "        self.height=height\n",
    "    def area(self):\n",
    "         return self.width*self.height\n",
    "    def perimeter(self):\n",
    "         return 2*(self.width+self.height) \n",
    "     \n",
    "Circle=circle(4)\n",
    "Rectangle=rectangle(6,13)  \n",
    "\n",
    "print(f\"Circle Area: {Circle.area()} units, Perimeter: {Circle.perimeter()} units\")        \n",
    "print(f\"Rectangle Area: {Rectangle.area()} units, Perimeter: {Rectangle.perimeter()} units\")     "
   ]
  },
  {
   "cell_type": "code",
   "execution_count": 3,
   "metadata": {},
   "outputs": [
    {
     "name": "stdout",
     "output_type": "stream",
     "text": [
      "Square: 16\n",
      "Cube: 64\n",
      "Name: John\n",
      "Age: 25\n",
      "Age must be greater than 0.\n",
      "Updated Age: 30\n"
     ]
    }
   ],
   "source": [
    "# Q2. Differentiate between Abstraction and Encapsulation. Explain with an example.\n",
    "\"\"\"Ans. Abstraction:- \n",
    "         Abstraction allows you to represent the essential features of an object while hiding the implementation details.\n",
    " Encapsulation:- \n",
    "         Encapsulation helps in hiding the internal details and provides a way to control the access to the data and methods of a class.\"\"\"\n",
    "\n",
    "# Here is the example of Abstraction\n",
    "\n",
    "import abc\n",
    "class power:\n",
    "    @abc.abstractmethod\n",
    "    def __init__(self):\n",
    "        pass\n",
    "    @abc.abstractmethod\n",
    "    def square(self):\n",
    "        pass\n",
    "    @abc.abstractmethod\n",
    "    def  cube(self):\n",
    "        pass\n",
    "class Square(power):\n",
    "       def __init__(self,x):\n",
    "           self.x=x\n",
    "       def sqr(self):\n",
    "            return self.x*self.x\n",
    "       \n",
    "\n",
    "class Cube(power):\n",
    "    def __init__(self, x):\n",
    "        self.x=x\n",
    "    def cube(self):\n",
    "         return self.x*self.x*self.x\n",
    "     \n",
    "S=Square(4)\n",
    "C=Cube(4)  \n",
    "\n",
    "print(f\"Square: {S.sqr()}\")        \n",
    "print(f\"Cube: {C.cube()}\") \n",
    "    \n",
    "\n",
    "# Here is the example of Encapsulation\n",
    "class Person:\n",
    "    def __init__(self, name, age):\n",
    "        self.__name = name  # Encapsulation: name is private\n",
    "        self.__age = age    # Encapsulation: age is private\n",
    "\n",
    "    def get_name(self):\n",
    "        return self.__name\n",
    "\n",
    "    def set_name(self, name):\n",
    "        self.__name = name\n",
    "\n",
    "    def get_age(self):\n",
    "        return self.__age\n",
    "\n",
    "    def set_age(self, age):\n",
    "        if age > 0:\n",
    "            self.__age = age\n",
    "        else:\n",
    "            print(\"Age must be greater than 0.\")\n",
    "\n",
    "# Usage of encapsulation\n",
    "person = Person(\"John\", 25)\n",
    "\n",
    "print(f'Name: {person.get_name()}')\n",
    "print(f'Age: {person.get_age()}')\n",
    "\n",
    "# Attempt to set age to a negative value (will not be allowed due to encapsulation)\n",
    "person.set_age(-5)\n",
    "\n",
    "# Set a valid age using the encapsulated setter method\n",
    "person.set_age(30)\n",
    "\n",
    "print(f'Updated Age: {person.get_age()}')\n"
   ]
  },
  {
   "cell_type": "code",
   "execution_count": null,
   "metadata": {},
   "outputs": [],
   "source": [
    "# Q3. What is abc module in python? Why is it used?\n",
    "''' Ans. the 'abc' is a module throw which we can we Abstraction method.\n",
    "It is used to create a abstract method which allows you to represent the essential features of an object while hiding the implementation details. '''\n"
   ]
  },
  {
   "cell_type": "code",
   "execution_count": 11,
   "metadata": {},
   "outputs": [
    {
     "name": "stdout",
     "output_type": "stream",
     "text": [
      " \n"
     ]
    }
   ],
   "source": [
    "# Q4. How can we achieve data abstraction?\n",
    "\"\"\"\n",
    "Data abstraction in programming refers to the concept of hiding the complex implementation details of data \n",
    "and exposing only the essential features. In object-oriented programming,\n",
    "data abstraction is often achieved through the use of abstract classes and abstract methods.\n",
    "=> steps to achieve Data abstraction\n",
    "1. Import abc module\n",
    "2. define a class say 'xyz' and define some methods (functions) inside the class with  @abc.abstractmethod before \n",
    "defining methods and just pass the method\n",
    "3. create one or two or multiple class (as your need) and inheritate the class shape inside those class (just pass that class as arrgument)\n",
    "4. Don't forggot to declare a __init__ function in each class as well as abstract class (shape) for data passing\n",
    "5. Inside the other classis define method or function that perform operations on data and return it by using self. method\n",
    "6. Now outside the classis just create objects for classes and pass values or arrgument (required) and print the outcome.\n",
    "\n",
    "For better understanding you can see the above code. \n",
    "\n",
    "\"\"\""
   ]
  },
  {
   "cell_type": "code",
   "execution_count": null,
   "metadata": {},
   "outputs": [],
   "source": [
    "# Q5. Can we create an instance of an abstract class? Explain your answer.\n",
    "\"\"\"\n",
    "Ans. \n",
    "No, you cannot create an instance of an abstract class in Python. Abstract classes are designed to be incomplete \n",
    "and serve as a blueprint for other classes.\n",
    "They may contain abstract methods, which are methods without an implementation. \n",
    "\"\"\""
   ]
  }
 ],
 "metadata": {
  "kernelspec": {
   "display_name": "Python 3",
   "language": "python",
   "name": "python3"
  },
  "language_info": {
   "codemirror_mode": {
    "name": "ipython",
    "version": 3
   },
   "file_extension": ".py",
   "mimetype": "text/x-python",
   "name": "python",
   "nbconvert_exporter": "python",
   "pygments_lexer": "ipython3",
   "version": "3.11.6"
  }
 },
 "nbformat": 4,
 "nbformat_minor": 2
}
