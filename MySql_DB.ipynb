{
 "cells": [
  {
   "cell_type": "markdown",
   "metadata": {},
   "source": [
    "<h1><center>Mysql Assignment</center></h1>"
   ]
  },
  {
   "cell_type": "markdown",
   "metadata": {},
   "source": [
    "<p>Q1. What is a database? Differentiate between SQL and NoSQL databases.<br>\n",
    "Q2. What is DDL? Explain why CREATE, DROP, ALTER, and TRUNCATE are used with an example.<br>\n",
    "Q3. What is DML? Explain INSERT, UPDATE, and DELETE with an example.<br>\n",
    "Q4. What is DQL? Explain SELECT with an example.<br>\n",
    "Q5. Explain Primary Key and Foreign Key.<br>\n",
    "Q6. Write a python code to connect MySQL to python. Explain the cursor() and execute() method.<br>\n",
    "Q7. Give the order of execution of SQL clauses in an SQL query.</p>"
   ]
  },
  {
   "cell_type": "markdown",
   "metadata": {},
   "source": [
    "<h1>Q1. What is a database? Differentiate between SQL and NoSQL databases.</h1>\n",
    "<p><b>Answer.</b></p>\n",
    "  <h2>What is a Database?</h2>\n",
    "  <p>A database is a structured collection of data that is organized and stored in a computer system. It allows for efficient data storage, retrieval, and management.</p>\n",
    "\n",
    "  <h2>Difference between SQL and NoSQL Databases</h2>\n",
    "  <p>SQL (Structured Query Language) and NoSQL (Not Only SQL) are two types of database management systems, each with its own characteristics:</p>\n",
    "\n",
    "  <h3>SQL Databases:</h3>\n",
    "  <ul>\n",
    "    <li>Structured data model</li>\n",
    "    <li>Relational data storage</li>\n",
    "    <li>Schema-based</li>\n",
    "    <li>Supports ACID properties (Atomicity, Consistency, Isolation, Durability)</li>\n",
    "    <li>Examples: MySQL, PostgreSQL, Oracle</li>\n",
    "  </ul>\n",
    "\n",
    "  <h3>NoSQL Databases:</h3>\n",
    "  <ul>\n",
    "    <li>Flexible data model</li>\n",
    "    <li>Non-relational data storage</li>\n",
    "    <li>Schema-less or schema-flexible</li>\n",
    "    <li>Supports eventual consistency</li>\n",
    "    <li>Examples: MongoDB, Couchbase, Cassandra</li>\n",
    "  </ul>"
   ]
  },
  {
   "cell_type": "markdown",
   "metadata": {},
   "source": [
    "<h1>Q2. What is DDL? Explain why CREATE, DROP, ALTER, and TRUNCATE are used with an example.</h1>\n",
    "<p><b>Answer.</b></p>\n",
    "   <h3>DDL Explanation</h3>\n",
    "    <p>DDL stands for Data Definition Language. It is a subset of SQL (Structured Query Language) used to define, modify, and delete database structures and schema objects.</p>\n",
    "    <p>The following are commonly used DDL commands:</p>\n",
    "    <ul>\n",
    "        <li><strong>CREATE:</strong> Used to create new database objects such as tables, indexes, views, or schemas.</li>\n",
    "        <li><strong>DROP:</strong> Used to delete existing database objects. It removes the entire object along with its data.</li>\n",
    "        <li><strong>ALTER:</strong> Used to modify existing database objects, such as adding, modifying, or dropping columns in a table.</li>\n",
    "        <li><strong>TRUNCATE:</strong> Used to remove all records from a table, but unlike DROP, it preserves the table structure and metadata.</li>\n",
    "    </ul>\n",
    "    <p>Here's an example of each DDL command:</p>\n",
    "    <ul>\n",
    "        <li><strong>CREATE:</strong> Creating a new table named \"employees\" with columns for employee ID, name, and department:</li>\n",
    "        <code>\n",
    "            CREATE TABLE employees (\n",
    "                emp_id INT PRIMARY KEY,\n",
    "                emp_name VARCHAR(50),\n",
    "                department VARCHAR(50)\n",
    "            );\n",
    "        </code>\n",
    "        <li><strong>DROP:</strong> Dropping the \"employees\" table:</li>\n",
    "        <code>\n",
    "            DROP TABLE employees;\n",
    "        </code>\n",
    "        <li><strong>ALTER:</strong> Adding a new column \"salary\" to the \"employees\" table:</li>\n",
    "        <code>\n",
    "            ALTER TABLE employees ADD COLUMN salary DECIMAL(10, 2);\n",
    "        </code>\n",
    "        <li><strong>TRUNCATE:</strong> Removing all records from the \"employees\" table:</li>\n",
    "        <code>\n",
    "            TRUNCATE TABLE employees;\n",
    "        </code>\n",
    "    </ul>"
   ]
  },
  {
   "cell_type": "markdown",
   "metadata": {},
   "source": [
    "<h1>Q3. What is DML? Explain INSERT, UPDATE, and DELETE with an example.</h1>\n",
    "<p><b>Answer.</b></p>\n",
    "<p><strong>INSERT:</strong></p>\n",
    "<p>INSERT is used to add new records to a table in a database.</p>\n",
    "<p>Example:</p>\n",
    "<pre><code>INSERT INTO Students (StudentID, Name, Age) VALUES (1, 'John', 20);</code></pre>\n",
    "<p>This statement inserts a new record into the \"Students\" table with StudentID 1, Name \"John\", and Age 20.</p>\n",
    "\n",
    "<p><strong>UPDATE:</strong></p>\n",
    "<p>UPDATE is used to modify existing records in a table based on specified conditions.</p>\n",
    "<p>Example:</p>\n",
    "<pre><code>UPDATE Students SET Age = 21 WHERE StudentID = 1;</code></pre>\n",
    "<p>This statement updates the Age of the student with StudentID 1 to 21 in the \"Students\" table.</p>\n",
    "\n",
    "<p><strong>DELETE:</strong></p>\n",
    "<p>DELETE is used to remove records from a table based on specified conditions.</p>\n",
    "<p>Example:</p>\n",
    "<pre><code>DELETE FROM Students WHERE StudentID = 1;</code></pre>\n",
    "<p>This statement deletes the record of the student with StudentID 1 from the \"Students\" table.</p>\n",
    "\n"
   ]
  },
  {
   "cell_type": "markdown",
   "metadata": {},
   "source": [
    "<h1>Q4. What is DQL? Explain SELECT with an example.</h1>\n",
    "<p><b>Answer.</b></p>\n",
    "<p>DQL stands for Data Query Language. It is a subset of SQL (Structured Query Language) used for retrieving data from a database.</p>\n",
    "\n",
    "<p>Example of a SELECT statement:</p>\n",
    "\n",
    "<pre>\n",
    "<code>\n",
    "SELECT column1, column2\n",
    "FROM table_name\n",
    "WHERE condition;\n",
    "</code>\n",
    "</pre>\n",
    "\n",
    "<p>In this example:</p>\n",
    "<ul>\n",
    "  <li><code>SELECT</code> specifies the columns to be retrieved.</li>\n",
    "  <li><code>FROM</code> specifies the table from which the data is retrieved.</li>\n",
    "  <li><code>WHERE</code> specifies any conditions that the retrieved data must meet.</li>\n",
    "</ul>\n"
   ]
  },
  {
   "cell_type": "markdown",
   "metadata": {},
   "source": [
    "<h1>Q5. Explain Primary Key and Foreign Key.</h1>\n",
    "<p><b>Answer.</b></p>\n",
    "  <h3>Primary Key</h3>\n",
    "  <p>\n",
    "    In a database table, a <strong>Primary Key</strong> uniquely identifies each record or row. It ensures that each row in the table is unique and can be used to access or reference specific records. Primary Key values cannot be null and must be unique within the table. Typically, Primary Keys are implemented using unique indexes.\n",
    "  </p>\n",
    "\n",
    "  <h3>Foreign Key</h3>\n",
    "  <p>\n",
    "    A <strong>Foreign Key</strong> is a field or a set of fields in a table that refers to the Primary Key of another table. It establishes a relationship between two tables by enforcing referential integrity. Foreign Key constraints ensure that the values in the Foreign Key column(s) of one table correspond to the values in the Primary Key column(s) of another table. This relationship allows for the creation of relational databases and enables data consistency and integrity.\n",
    "  </p>"
   ]
  },
  {
   "cell_type": "code",
   "execution_count": null,
   "metadata": {},
   "outputs": [],
   "source": [
    "\"\"\"Q6. Write a python code to connect MySQL to python. Explain the cursor() and execute() method.\"\"\"\n",
    "\n",
    "import sqlite3.collections\n",
    "\n",
    "# Establishing a connection to MySQL\n",
    "try:\n",
    "    # Replace the placeholders with your MySQL database credentials\n",
    "    connection = sqlite3.connector.connect(\n",
    "        host=\"localhost\",\n",
    "        user=\"your_username\",\n",
    "        password=\"your_password\",\n",
    "        database=\"your_database\"\n",
    "    )\n",
    "\n",
    "    # Creating a cursor object\n",
    "    cursor = connection.cursor()\n",
    "\n",
    "    # Example query execution\n",
    "    query = \"SELECT * FROM your_table\"\n",
    "    cursor.execute(query)\n",
    "    \n",
    "    connection.close()\n",
    "\n",
    "\n",
    "except sqlite3.connector.Error as error:\n",
    "    print(\"Error connecting to MySQL:\", error)\n",
    "\n",
    "### the cursor()\n",
    "# cursor(): The cursor() method creates a cursor object which is used to execute SQL queries and fetch results from the database.\n",
    "\n",
    "### the execute()\n",
    "# execute(query): The execute() method is used to execute a SQL query. It takes the SQL query as its parameter. In the example, we execute a SELECT query to fetch all records from a table."
   ]
  },
  {
   "cell_type": "markdown",
   "metadata": {},
   "source": [
    "<h1>Q7. Give the order of execution of SQL clauses in an SQL query.</h1>\n",
    "<p><b>Answer.</b></p>\n",
    "<p>This list indicates the sequence in which the clauses are typically processed when executing an SQL query.</p>\n",
    "<ol>\n",
    "  <li>FROM</li>\n",
    "  <li>WHERE</li>\n",
    "  <li>GROUP BY</li>\n",
    "  <li>HAVING</li>\n",
    "  <li>SELECT</li>\n",
    "  <li>ORDER BY</li>\n",
    "  <li>LIMIT</li>\n",
    "</ol>\n",
    "\n"
   ]
  }
 ],
 "metadata": {
  "kernelspec": {
   "display_name": "base",
   "language": "python",
   "name": "python3"
  },
  "language_info": {
   "name": "python",
   "version": "3.11.7"
  }
 },
 "nbformat": 4,
 "nbformat_minor": 2
}
