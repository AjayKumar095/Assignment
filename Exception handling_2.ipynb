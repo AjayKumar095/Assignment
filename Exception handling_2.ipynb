{
 "cells": [
  {
   "cell_type": "markdown",
   "metadata": {},
   "source": [
    "<h1><center>Exception handling-2</center></h1>"
   ]
  },
  {
   "cell_type": "markdown",
   "metadata": {},
   "source": [
    "<h3>Q1. Explain why we have to use the Exception class while creating a Custom Exception.\n",
    "Note: Here Exception class refers to the base class for all the exceptions.</h3>\n",
    "<p><b>Answer.</b></p>\n",
    " <h3>Custom Exception with Exception Class</h3>\n",
    "    \n",
    "<p>\n",
    "        In Python, the <code>Exception</code> class is the base class for all exceptions. When creating a custom exception, it is advisable to inherit from the <code>Exception</code> class (or one of its subclasses) to ensure that the custom exception follows the standard conventions and behaviors expected from an exception in the Python language.\n",
    "    </p>\n",
    "\n",
    "<h3>Reasons to Use the Exception Class:</h3>\n",
    "\n",
    "<ol>\n",
    "        <li>\n",
    "            <strong>Consistency and Compatibility:</strong> Inheriting from the <code>Exception</code> class ensures that the custom exception is consistent with the standard exceptions provided by Python. It ensures compatibility with the broader exception-handling infrastructure in Python, making it easier to integrate custom exceptions into existing code and frameworks.\n",
    "        </li>\n",
    "        <li>\n",
    "            <strong>Standard Behaviors:</strong> By inheriting from <code>Exception</code>, the custom exception inherits standard behaviors and attributes common to all exceptions in Python. This includes the ability to carry an optional error message, traceback information, and other attributes that facilitate consistent error handling.\n",
    "        </li>\n",
    "        <li>\n",
    "            <strong>Interchangeability:</strong> Custom exceptions that inherit from <code>Exception</code> can be used interchangeably with built-in exceptions in except clauses, making it easy to catch specific types of exceptions in a unified manner.\n",
    "        </li>\n",
    "        <li>\n",
    "            <strong>Clarity and Readability:</strong> Following the convention of inheriting from the <code>Exception</code> class improves code clarity and readability. Developers reading the code can quickly recognize that a class is intended to be an exception, and they can leverage their existing knowledge of exception handling in Python.\n",
    "        </li>\n",
    "        <li>\n",
    "            <strong>Future-Proofing:</strong> Inheriting from <code>Exception</code> future-proofs the custom exception by ensuring compatibility with any changes or enhancements to the exception-handling system in future Python releases.\n",
    "        </li>\n",
    "    </ol>\n",
    "\n",
    "<h3>Example:</h3>\n",
    "\n",
    "<pre>\n",
    "        <code>\n",
    "class CustomError(Exception):\n",
    "    def __init__(self, message):\n",
    "        super().__init__(message)\n",
    "\n",
    "# Using the custom exception\n",
    "try:\n",
    "    raise CustomError(\"This is a custom exception.\")\n",
    "except CustomError as e:\n",
    "    print(f\"Caught CustomError: {e}\")\n",
    "        </code>\n",
    "    </pre>\n",
    "\n",
    "<p>\n",
    "        In this example, <code>CustomError</code> is a custom exception that inherits from <code>Exception</code>. When raised and caught, it behaves like any other exception in the Python language.\n",
    "    </p>\n"
   ]
  },
  {
   "cell_type": "code",
   "execution_count": null,
   "metadata": {},
   "outputs": [],
   "source": [
    "\"\"\"Q2. Write a python program to print Python Exception Hierarchy.\"\"\"\n",
    "\n",
    "def print_exception_hierarchy(exception_class, indent=0):\n",
    "    print(\"  \" * indent + f\"{exception_class.__name__}\")\n",
    "    for base_class in exception_class.__bases__:\n",
    "        print_exception_hierarchy(base_class, indent + 1)\n",
    "\n",
    "# Print Python Exception Hierarchy\n",
    "print(\"Python Exception Hierarchy:\")\n",
    "print_exception_hierarchy(BaseException)\n"
   ]
  }
 ],
 "metadata": {
  "kernelspec": {
   "display_name": "Python 3",
   "language": "python",
   "name": "python3"
  },
  "language_info": {
   "name": "python",
   "version": "3.11.6"
  }
 },
 "nbformat": 4,
 "nbformat_minor": 2
}
