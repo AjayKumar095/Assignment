{
 "cells": [
  {
   "cell_type": "code",
   "execution_count": 23,
   "metadata": {},
   "outputs": [
    {
     "name": "stdout",
     "output_type": "stream",
     "text": [
      "Extracted numbers: [1, 2, 3, 4, 44, 55, 66, 1, 2, 3, 3, 2, 1, 1, 34, 55, 67, 78, 89, 4, 56]\n",
      "Product:-  26885745352411545600\n"
     ]
    }
   ],
   "source": [
    "# Q1. Create a function which will take a list as an argument and return the product of all the numbers after creating a flat list.\n",
    "\n",
    "# Function for extract numeric data from list\n",
    "from functools import reduce\n",
    "def extract_numbers(data):\n",
    "    numbers = []\n",
    "\n",
    "    if isinstance(data, list):\n",
    "        \n",
    "        for item in data:\n",
    "            numbers.extend(extract_numbers(item))\n",
    "    elif isinstance(data, dict):\n",
    "        \n",
    "        for key, value in data.items():\n",
    "            numbers.extend(extract_numbers(key))\n",
    "            numbers.extend(extract_numbers(value))\n",
    "    elif isinstance(data, (int, float)):\n",
    "        \n",
    "        numbers.append(data)\n",
    "\n",
    "    return numbers\n",
    "\n",
    "# Function for calculating product\n",
    "def product(lis):\n",
    "    for i in lis:\n",
    "        cal=reduce(lambda x,y:x*y,lis)\n",
    "    return cal\n",
    "    \n",
    "    \n",
    "# Input data   \n",
    "data_list = [1,2,3,4, [44,55,66, True], False, (34,56,78,89,34), [1,2,3,3,2,1], {1:34, \"key2\": [55, 67, 78, 89], 4: (45,\n",
    "22, 61, 34)}, [56, 'data science'], 'Machine Learning']\n",
    "\n",
    "# Calling function for data extraction\n",
    "result = extract_numbers(data_list)\n",
    "result = [item for item in result if not isinstance(item, bool)]\n",
    "print(\"Extracted numbers:\", result)\n",
    "\n",
    "\n",
    "# Calling function for calculating product\n",
    "multi=product(result)\n",
    "print( \"Product:- \",multi)\n",
    "\n",
    "\n"
   ]
  },
  {
   "cell_type": "code",
   "execution_count": 78,
   "metadata": {},
   "outputs": [
    {
     "name": "stdout",
     "output_type": "stream",
     "text": [
      "r$dzmg$gl$yvxlnv$z$wzgz$hxrvmgrhg\n"
     ]
    }
   ],
   "source": [
    " # Q2. Write a python program for encrypting a message sent to you by your friend.\n",
    "def encrypt(password):\n",
    "    result=''\n",
    "    for char in string:\n",
    "        if char.isupper():\n",
    "          reverse=chr(ord('Z')-ord(char)+ord('A'))\n",
    "          result+=reverse\n",
    "        elif char.islower():\n",
    "           reverse=chr(ord('z')-ord(char)+ord('a'))\n",
    "           result+=reverse\n",
    "        elif char.isspace():\n",
    "           char.replace(' ', '$')\n",
    "           result+='$'        \n",
    "    print(result) \n",
    "    \n",
    "string='I want to become a Data Scientist.'\n",
    "string=string.lower()\n",
    "encrypt(string)    "
   ]
  }
 ],
 "metadata": {
  "kernelspec": {
   "display_name": "Python 3",
   "language": "python",
   "name": "python3"
  },
  "language_info": {
   "codemirror_mode": {
    "name": "ipython",
    "version": 3
   },
   "file_extension": ".py",
   "mimetype": "text/x-python",
   "name": "python",
   "nbconvert_exporter": "python",
   "pygments_lexer": "ipython3",
   "version": "3.11.6"
  }
 },
 "nbformat": 4,
 "nbformat_minor": 2
}
