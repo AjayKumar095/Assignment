{
 "cells": [
  {
   "cell_type": "code",
   "execution_count": 59,
   "metadata": {},
   "outputs": [
    {
     "name": "stdout",
     "output_type": "stream",
     "text": [
      "[1, 3, 5, 7, 9, 11, 13, 15, 17, 19, 21, 23, 25]\n"
     ]
    }
   ],
   "source": [
    "# Q1.\n",
    "# Ans. The 'def' keyword is used to create a function in pyhton\n",
    "\n",
    "# Program to return a list of odd numbers in the range of 1 to 25.\n",
    "def odd_num():\n",
    "    odd_number=[]\n",
    "    for i in range(1,26):\n",
    "        if i%2==1:\n",
    "           odd_number.append(i) \n",
    "    return odd_number\n",
    "result=odd_num()\n",
    "print(result)\n"
   ]
  },
  {
   "cell_type": "code",
   "execution_count": 60,
   "metadata": {},
   "outputs": [
    {
     "name": "stdout",
     "output_type": "stream",
     "text": [
      "Sum: 15\n",
      "name: John\n",
      "age: 30\n",
      "city: New York\n"
     ]
    }
   ],
   "source": [
    "# Q2.\n",
    "# Ans. Both *args and **kwargs are used to accept a variable or multiple number of arguments. In general they write as *args and **kwargs but we can use or assing other name to tham like *jay and **jay. Both represented as an asterisk or double asterisk respectively followed by a variable name (e.g., *args and **kwargs). You can access the arguments in the args tuple as if they were a list and can access the arguments in the kwargs dictionary by their keys.\n",
    "# Function that accepts *args\n",
    "def sum_numbers(*args):\n",
    "    result = 0\n",
    "    for num in args:\n",
    "        result += num\n",
    "    return result\n",
    "\n",
    "# Function that accepts **kwargs\n",
    "def print_info(**kwargs):\n",
    "    for key, value in kwargs.items():\n",
    "        print(f\"{key}: {value}\")\n",
    "\n",
    "# Example of using the sum_numbers function with *args\n",
    "total = sum_numbers(1, 2, 3, 4, 5)\n",
    "print(\"Sum:\", total)\n",
    "\n",
    "# Example of using the print_info function with **kwargs\n",
    "print_info(name=\"John\", age=30, city=\"New York\")\n"
   ]
  },
  {
   "cell_type": "code",
   "execution_count": 61,
   "metadata": {},
   "outputs": [
    {
     "name": "stdout",
     "output_type": "stream",
     "text": [
      "2\n",
      "4\n",
      "6\n",
      "8\n",
      "10\n"
     ]
    }
   ],
   "source": [
    "# Q3.\n",
    "# Ans. In Python, an iterator is an object that represents a stream of data. It allows you to iterate over a collection of items, such as a list, tuple, or any other iterable, one item at a time. To work with iterators, you can use the iter() function to initialize an iterator object and the next() function to retrieve the next item in the iteration. \n",
    "# Initialize an iterator for the list\n",
    "my_list = [2, 4, 6, 8, 10, 12, 14, 16, 18, 20]\n",
    "iterator = iter(my_list)\n",
    "\n",
    "# Iterate and print the first five elements\n",
    "for _ in range(5):  # Use \"_\" to ignore the loop variable since it's not needed\n",
    "    try:\n",
    "        element = next(iterator)\n",
    "        print(element)\n",
    "    except StopIteration:\n",
    "        break\n"
   ]
  },
  {
   "cell_type": "code",
   "execution_count": 30,
   "metadata": {},
   "outputs": [
    {
     "name": "stdout",
     "output_type": "stream",
     "text": [
      "5\n",
      "4\n",
      "3\n",
      "2\n",
      "1\n"
     ]
    }
   ],
   "source": [
    "# Q4.\n",
    "# Ans.A generator function in Python is a special type of function that uses the \"yield\" keyword to produce a sequence of values one at a time, allowing for efficient and memory-friendly iteration over large data sets. The \"yield\" keyword is used in a Python function to produce a value.\n",
    "def Fact(n):\n",
    "    while n>0:\n",
    "        yield n\n",
    "        n-=1\n",
    "for i in Fact(5):\n",
    "    print(i)\n"
   ]
  },
  {
   "cell_type": "code",
   "execution_count": 43,
   "metadata": {},
   "outputs": [
    {
     "name": "stdout",
     "output_type": "stream",
     "text": [
      "2 3 5 7 11 13 17 19 23 29 31 37 41 43 47 53 59 61 67 71 "
     ]
    }
   ],
   "source": [
    "# Q5.\n",
    "def is_prime(num):\n",
    "    for i in range(2,num):\n",
    "        if num%i==0:\n",
    "            return False\n",
    "    return True\n",
    "def prime_generator():\n",
    "    num = 2\n",
    "    while num<1000:\n",
    "        if is_prime(num):\n",
    "            yield num    \n",
    "        num += 1 \n",
    "       \n",
    "it = prime_generator()\n",
    "n=0\n",
    "while n<20:\n",
    "    prime=next(it)\n",
    "    print(prime, end=' ')\n",
    "    n+=1       "
   ]
  },
  {
   "cell_type": "code",
   "execution_count": 48,
   "metadata": {},
   "outputs": [
    {
     "name": "stdout",
     "output_type": "stream",
     "text": [
      "0 1 1 2 3 5 8 13 21 34 "
     ]
    }
   ],
   "source": [
    "# Q6.\n",
    "def fib():\n",
    "    a,b = 0,1\n",
    "    while True:\n",
    "        yield a\n",
    "        a,b =b, a+b\n",
    "ser=fib()\n",
    "for i in range(10):\n",
    "    num=next(ser)   \n",
    "    print(num, end=' ')  "
   ]
  },
  {
   "cell_type": "code",
   "execution_count": 55,
   "metadata": {},
   "outputs": [
    {
     "data": {
      "text/plain": [
       "['p', 'w', 's', 'k', 'i', 'l', 'l', 's']"
      ]
     },
     "execution_count": 55,
     "metadata": {},
     "output_type": "execute_result"
    }
   ],
   "source": [
    "# Q7.\n",
    "str=\"pwskills\"\n",
    "list(map(lambda x: x, str))\n"
   ]
  },
  {
   "cell_type": "code",
   "execution_count": 84,
   "metadata": {},
   "outputs": [
    {
     "name": "stdout",
     "output_type": "stream",
     "text": [
      "121  is Palindrome\n"
     ]
    }
   ],
   "source": [
    "# Q8.\n",
    "\n",
    "def Check_Palindrome(number):\n",
    "    num1=0\n",
    "    num2=number\n",
    "    while number>0:\n",
    "        r=number%10\n",
    "        num1=num1*10+r\n",
    "        number=number//10\n",
    "    return num2==num1\n",
    "uint=int(input(\" Enter a Number:- \"))  \n",
    "if Check_Palindrome(uint):\n",
    "    print(uint,\" is Palindrome\")  \n",
    "else:\n",
    "    print(uint,\" is not Palindrome\")    "
   ]
  },
  
  {
   "cell_type": "code",
   "execution_count": 92,
   "metadata": {},
   "outputs": [
    {
     "name": "stdout",
     "output_type": "stream",
     "text": [
      "[1, 3, 5, 7, 9, 11, 13, 15, 17, 19, 21, 23, 25, 27, 29, 31, 33, 35, 37, 39, 41, 43, 45, 47, 49, 51, 53, 55, 57, 59, 61, 63, 65, 67, 69, 71, 73, 75, 77, 79, 81, 83, 85, 87, 89, 91, 93, 95, 97, 99]\n"
     ]
    }
   ],
   "source": [
     "# Q9.\n",
    "\n",
    "l=[i for i in range(1,101)]\n",
    "odd=[j for j in l if j%2==1]\n",
    "print(odd)"
   ]
  }
 ],
 "metadata": {
  "kernelspec": {
   "display_name": "Python 3",
   "language": "python",
   "name": "python3"
  },
  "language_info": {
   "codemirror_mode": {
    "name": "ipython",
    "version": 3
   },
   "file_extension": ".py",
   "mimetype": "text/x-python",
   "name": "python",
   "nbconvert_exporter": "python",
   "pygments_lexer": "ipython3",
   "version": "3.11.6"
  }
 },
 "nbformat": 4,
 "nbformat_minor": 2
}
