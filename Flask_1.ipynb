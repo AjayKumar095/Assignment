{
 "cells": [
  {
   "cell_type": "markdown",
   "metadata": {},
   "source": [
    "<h1><center>Flask-1</center></h1>"
   ]
  },
  {
   "cell_type": "markdown",
   "metadata": {},
   "source": [
    "<h3>Q1. What is Flask Framework? What are the advantages of Flask Framework?</h3>\n",
    "<p><b>Answer.</b></p>\n",
    " <h1>Flask Framework</h1>\n",
    "    \n",
    "<p>\n",
    "        <strong>Flask</strong> is a lightweight and flexible web framework for Python. It is designed to be easy to use and does not impose any particular project structure or dependencies, allowing developers the freedom to choose the tools and libraries that suit their needs. Flask is commonly used for building web applications, RESTful APIs, and microservices.\n",
    "    </p>\n",
    "\n",
    "<h3>Advantages of Flask Framework:</h3>\n",
    "    \n",
    "<p>\n",
    "        <strong>1. Simplicity:</strong> Flask follows a simple and minimalistic design, making it easy for developers to understand and use. It does not impose unnecessary dependencies, allowing developers to choose components based on their preferences.\n",
    "    </p>\n",
    "    <p>\n",
    "        <strong>2. Lightweight:</strong> Flask is a lightweight framework with a minimalistic core. This results in faster performance and reduced overhead, making it suitable for small to medium-sized applications.\n",
    "    </p>\n",
    "    <p>\n",
    "        <strong>3. Extensibility:</strong> Flask is extensible, allowing developers to add the specific features they need through various extensions. These extensions can include authentication, database integration, and more.\n",
    "    </p>\n",
    "    <p>\n",
    "        <strong>4. Built-in Development Server:</strong> Flask comes with a built-in development server, making it convenient for developers to test and debug their applications during the development phase.\n",
    "    </p>\n",
    "    <p>\n",
    "        <strong>5. Flexible URL Routing:</strong> Flask provides a simple and flexible mechanism for defining URL routes, allowing developers to create clean and organized URL structures for their applications.\n",
    "    </p>\n",
    "    <p>\n",
    "        <strong>6. Jinja2 Templating:</strong> Flask uses the Jinja2 templating engine, allowing developers to create dynamic and modular templates for rendering HTML content in a clear and concise manner.\n",
    "    </p>"
   ]
  },
  {
   "cell_type": "markdown",
   "metadata": {},
   "source": [
    "<h3>Q2. Create a simple Flask application to display ‘Hello World!!’. Attach the screenshot of the output in\n",
    "Jupyter Notebook.</h3>\n",
    "<p><b>Answer.</b></p>\n",
    "\n",
    "  <h1>Simple Flask Application</h1>\n",
    "    \n",
    "<p>\n",
    "        Below is a simple example of a Flask application that displays 'Hello World!!' when accessed.\n",
    "    </p>\n",
    "\n",
    "<h3>Flask Application Code:</h3>\n",
    "\n",
    " <pre>\n",
    "        <code>\n",
    "from flask import Flask\n",
    "\n",
    "app = Flask(__name__)\n",
    "\n",
    "@app.route('/')\n",
    "def hello_world():\n",
    "    return 'Hello World!!'\n",
    "\n",
    "if __name__ == '__main__':\n",
    "    app.run(debug=True)\n",
    "        </code>\n",
    "    </pre>\n",
    "\n",
    "<p>\n",
    "        To run this Flask application:\n",
    "</p>\n",
    "<ol>\n",
    "        <li>Ensure Flask is installed (install using: <code>pip install Flask</code>).</li>\n",
    "        <li>Save the code above in a file, for example, <code>app.py</code>.</li>\n",
    "        <li>Open a terminal and navigate to the directory containing the file.</li>\n",
    "        <li>Run the command: <code>python app.py</code>.</li>\n",
    "        <li>Visit <a href=\"http://127.0.0.1:5000/\" target=\"_blank\">http://127.0.0.1:5000/</a> in your web browser.</li>\n",
    "    </ol>\n",
    "\n",
    "<p>\n",
    "        You should see 'Hello World!!' displayed on the page.\n",
    "    </p>"
   ]
  },
  {
   "cell_type": "code",
   "execution_count": null,
   "metadata": {},
   "outputs": [],
   "source": [
    "from flask import Flask\n",
    "app = Flask(__name__)\n",
    "\n",
    "@app.route('/')\n",
    "def hello_world():\n",
    "    return f'Hello World!!'\n",
    "\n",
    "if __name__ == '__main__':\n",
    "    app.run(debug=True)"
   ]
  }
 ],
 "metadata": {
  "kernelspec": {
   "display_name": "Python 3",
   "language": "python",
   "name": "python3"
  },
  "language_info": {
   "codemirror_mode": {
    "name": "ipython",
    "version": 3
   },
   "file_extension": ".py",
   "mimetype": "text/x-python",
   "name": "python",
   "nbconvert_exporter": "python",
   "pygments_lexer": "ipython3",
   "version": "3.11.6"
  }
 },
 "nbformat": 4,
 "nbformat_minor": 2
}
