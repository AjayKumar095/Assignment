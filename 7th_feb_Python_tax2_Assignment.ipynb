{
 "cells": [
  {
   "cell_type": "code",
   "execution_count": 48,
   "metadata": {},
   "outputs": [
    {
     "name": "stdout",
     "output_type": "stream",
     "text": [
      "Valid Password\n"
     ]
    }
   ],
   "source": [
    "# Q1. Program for password validation \n",
    "# function for checking password satisfying giving condition\n",
    "def check_password(password):\n",
    " lower_cout=0\n",
    " upper_cout=0\n",
    " num_cout=0\n",
    " spc_cout=0\n",
    " for i in s:\n",
    "    if i.islower():\n",
    "        lower_cout+=1\n",
    "    elif i.isupper():\n",
    "        upper_cout+=1\n",
    "    elif i.isnumeric():\n",
    "        num_cout+=1 \n",
    "    elif not i.isalnum():\n",
    "        spc_cout+=1          \n",
    " return lower_cout, upper_cout, num_cout, spc_cout\n",
    "\n",
    "# Taking password as a string from user\n",
    "s=input(\"Enter Your Password For Checking: -\")\n",
    "#Calling function\n",
    "paw=check_password(s)\n",
    "re_lower_cout, re_upper_cout, re_num_cout, re_spc_cout=paw\n",
    "# Printing result\n",
    "if re_lower_cout>=2:\n",
    "    if re_upper_cout>=2:\n",
    "        if re_num_cout>=1:\n",
    "            if re_spc_cout>=3:\n",
    "                if len(s)>=10:\n",
    "                 print(\"Valid Password\")\n",
    "                else:\n",
    "                  print(\"Invalid Password\")\n",
    "            else:\n",
    "                print(\"Invalid Password\")\n",
    "        else:\n",
    "            print(\"Invalid Password\")\n",
    "    else:\n",
    "        print(\"Invalid Password\")    \n",
    "else:\n",
    "    print(\"Invalid Password\")                    "
   ]
  },
  {
   "cell_type": "code",
   "execution_count": 18,
   "metadata": {},
   "outputs": [
    {
     "name": "stdout",
     "output_type": "stream",
     "text": [
      "yes, this string start with C\n"
     ]
    }
   ],
   "source": [
    "# Q2.1 Check if the string starts with a particular letter. \n",
    "s='Check if the string starts with a particular letter'\n",
    "for i in s:\n",
    "    if i=='C':\n",
    "        print('yes, this string start with C')\n",
    "        break\n",
    "    else:\n",
    "        print('no, this string not start with C')\n",
    "        break"
   ]
  },
  {
   "cell_type": "code",
   "execution_count": 5,
   "metadata": {},
   "outputs": [
    {
     "name": "stdout",
     "output_type": "stream",
     "text": [
      "True\n",
      "False\n"
     ]
    }
   ],
   "source": [
    "# Q2.2 Check if the string is numeric\n",
    "check_isnum=lambda x:x.isnumeric()\n",
    "s1='766573128876'\n",
    "s2='jgvFF57867jh'\n",
    "print (check_isnum(s1)) \n",
    "print (check_isnum(s2))"
   ]
  },
  {
   "cell_type": "code",
   "execution_count": 23,
   "metadata": {},
   "outputs": [
    {
     "name": "stdout",
     "output_type": "stream",
     "text": [
      "orange - 80\n",
      "mango - 99\n",
      "grapes - 1000\n"
     ]
    }
   ],
   "source": [
    "# Q2.3 Sort a list of tuples having fruit names and their quantity. [(\"mango\",99),(\"orange\",80), (\"grapes\", 1000)]\n",
    "fruits = [(\"mango\", 99), (\"orange\", 80), (\"grapes\", 1000)]\n",
    "sorted_fruits = sorted(fruits, key=lambda fruit: fruit[1])\n",
    "for fruit in sorted_fruits:\n",
    "    print(f\"{fruit[0]} - {fruit[1]}\")"
   ]
  },
  {
   "cell_type": "code",
   "execution_count": 65,
   "metadata": {},
   "outputs": [
    {
     "name": "stdout",
     "output_type": "stream",
     "text": [
      "[1, 4, 9, 16, 25, 36, 49, 64, 81, 100]\n"
     ]
    }
   ],
   "source": [
    "# Q2.4 Find the squares of numbers from 1 to 10.\n",
    "l=[1,2,3,4,5,6,7,8,9,10]\n",
    "sq=list(map(lambda x:x**2,l))\n",
    "print(sq)"
   ]
  },
  {
   "cell_type": "code",
   "execution_count": 66,
   "metadata": {},
   "outputs": [
    {
     "name": "stdout",
     "output_type": "stream",
     "text": [
      "[1, 8, 27, 64, 125, 216, 343, 512, 729, 1000]\n"
     ]
    }
   ],
   "source": [
    "# Q2.5 Find the cube root of numbers from 1 to 10.\n",
    "l=[1,2,3,4,5,6,7,8,9,10]\n",
    "sq=list(map(lambda x:x**3,l))\n",
    "print(sq)"
   ]
  },
  {
   "cell_type": "code",
   "execution_count": 57,
   "metadata": {},
   "outputs": [
    {
     "name": "stdout",
     "output_type": "stream",
     "text": [
      "5 is odd\n"
     ]
    }
   ],
   "source": [
    "# Q2.6 Check if a given number is even. \n",
    "even=lambda x:x%2==0\n",
    "odd=lambda y:y%2 !=0\n",
    "num=int(input(\"Enter a Number:- \"))\n",
    "if even(num):\n",
    "    print(num,\"is even\")\n",
    "else:\n",
    "    print(num,\"is odd\")\n"
   ]
  },
  {
   "cell_type": "code",
   "execution_count": 64,
   "metadata": {},
   "outputs": [
    {
     "name": "stdout",
     "output_type": "stream",
     "text": [
      "[1, 3, 5, 7, 9]\n"
     ]
    }
   ],
   "source": [
    "# Q2.7 Filter odd numbers from the given list.\n",
    "l=[1,2,3,4,5,6,7,8,9,10]\n",
    "odd_num=list(filter(lambda x: x%2!=0,l))\n",
    "print(odd_num)"
   ]
  },
  {
   "cell_type": "code",
   "execution_count": 22,
   "metadata": {},
   "outputs": [
    {
     "data": {
      "text/plain": [
       "[[-1, -2, -3, -4, -5], [1, 2, 3, 4, 5, 6]]"
      ]
     },
     "execution_count": 22,
     "metadata": {},
     "output_type": "execute_result"
    }
   ],
   "source": [
    "# Q2.8 Sort a list of integers into positive and negative integers lists.\n",
    "s=[1,2,3,4,5,6,-1,-2,-3,-4,-5,0]\n",
    "[[i for i in s if i<0], [i for i in s if i>0]]\n",
    "\n"
   ]
  }
 ],
 "metadata": {
  "kernelspec": {
   "display_name": "Python 3",
   "language": "python",
   "name": "python3"
  },
  "language_info": {
   "codemirror_mode": {
    "name": "ipython",
    "version": 3
   },
   "file_extension": ".py",
   "mimetype": "text/x-python",
   "name": "python",
   "nbconvert_exporter": "python",
   "pygments_lexer": "ipython3",
   "version": "3.11.6"
  }
 },
 "nbformat": 4,
 "nbformat_minor": 2
}
