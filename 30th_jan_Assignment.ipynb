{
 "cells": [
  {
   "cell_type": "code",
   "execution_count": 29,
   "metadata": {},
   "outputs": [
    {
     "name": "stdout",
     "output_type": "stream",
     "text": [
      "Grade:- A\n"
     ]
    }
   ],
   "source": [
    "# Q1.\n",
    "marks= int(input(\"Enter Your Marks:-  \"))\n",
    "if(marks>90):\n",
    "    print(\"Grade:- A\")\n",
    "elif(marks>80 and marks<=90):\n",
    "       print(\"Grade:- B\")\n",
    "elif(marks>=60 and marks<=80):\n",
    "       print(\"Grade:- C\")\n",
    "elif(marks<60):\n",
    "       print(\"Grade:- D\")               "
   ]
  },
  {
   "cell_type": "code",
   "execution_count": 30,
   "metadata": {},
   "outputs": [
    {
     "name": "stdout",
     "output_type": "stream",
     "text": [
      "Tax:- 150000.0\n"
     ]
    }
   ],
   "source": [
    "# Q2.\n",
    "CostPrice=float(input(\"Enter Your Bike Cost(in Rs):-\"))\n",
    "if(CostPrice>100000):\n",
    "    tax=(15/100)*CostPrice\n",
    "    print(\"Tax:-\",tax)\n",
    "elif(CostPrice>50000 and CostPrice<=100000):\n",
    "        tax=(10/100)*CostPrice\n",
    "        print(\"Tax:-\",tax)\n",
    "elif(CostPrice<=50000):\n",
    "       tax=(10/100)*CostPrice\n",
    "       print(\"Tax:-\",tax)\n",
    " "
   ]
  },
  {
   "cell_type": "code",
   "execution_count": 31,
   "metadata": {},
   "outputs": [
    {
     "name": "stdout",
     "output_type": "stream",
     "text": [
      "Delhi Monument:- Red Fort\n"
     ]
    }
   ],
   "source": [
    "# Q3.\n",
    "city=str(input(\"Enter Any city Name (Delhi, Agra, Jaipur): -\"))\n",
    "if(city== \"Delhi\" or city==\"delhi\"):\n",
    "    print(\"Delhi Monument:- Red Fort\")\n",
    "elif(city== \"Agra\" or city==\"agra\"):\n",
    "    print(\"Agra Monument:- Taj Mahal\")\n",
    "elif(city== \"Jaipur\" or city==\"jaipur\"):\n",
    "    print(\"Jaipur Monument:- Jal Mahal\")    \n",
    "        "
   ]
  },
  {
   "cell_type": "code",
   "execution_count": 32,
   "metadata": {},
   "outputs": [
    {
     "name": "stdout",
     "output_type": "stream",
     "text": [
      "The number can be divided by 3 3 times before it's less than or equal to 10.\n"
     ]
    }
   ],
   "source": [
    "# Q3.\n",
    "number = int(input(\"Enter a number: \"))\n",
    "count = 0\n",
    "while number > 10:\n",
    "    number = number / 3\n",
    "    count += 1\n",
    "print(f\"The number can be divided by 3 {count} times before it's less than or equal to 10.\")\n",
    "\n"
   ]
  },
  {
   "cell_type": "code",
   "execution_count": 33,
   "metadata": {},
   "outputs": [
    {
     "name": "stdout",
     "output_type": "stream",
     "text": [
      "1\n",
      "2\n",
      "3\n",
      "4\n",
      "5\n",
      "Loop has finished!\n"
     ]
    }
   ],
   "source": [
    "# Q4. \n",
    "# while loop:- A while loop in Python is used when you need to execute a block of code repeatedly as long as a certain condition is true. The loop will keep running until the condition becomes false. \n",
    "# When we use while loop: - You should use a while loop when you want to repeat a specific set of instructions while a condition remains true.\n",
    "# Why we use while loop: - 1) Use a while loop when you don't know how many iterations are needed beforehand. For example, you might need to read input until a certain condition is met, or you may need to repeatedly perform a task until a certain value is reached. 2) while loops are flexible because they allow you to change the condition during the loop's execution. \n",
    "# Exapmle\n",
    "\n",
    "# Initialize a variable to start from 1\n",
    "count = 1\n",
    "\n",
    "# Use a while loop to count from 1 to 5\n",
    "while count <= 5:\n",
    "    print(count)\n",
    "    count += 1  # Increment the count by 1 in each iteration\n",
    "\n",
    "print(\"Loop has finished!\")\n",
    "\n",
    "\n"
   ]
  },
  {
   "cell_type": "code",
   "execution_count": 35,
   "metadata": {},
   "outputs": [
    {
     "name": "stdout",
     "output_type": "stream",
     "text": [
      "* \n",
      "* * \n",
      "* * * \n",
      "* * * * \n",
      "* * * * * \n",
      "* * * * \n",
      "*     * \n",
      "*     * \n",
      "*     * \n",
      "* * * * \n",
      "        * \n",
      "      * * * \n",
      "    * * * * * \n",
      "  * * * * * * * \n",
      "* * * * * * * * * \n"
     ]
    }
   ],
   "source": [
    "# 6.\n",
    "# Pattern 1: Right Triangle\n",
    "row = 1\n",
    "while row <= 5:\n",
    "    col = 1\n",
    "    while col <= row:\n",
    "        print(\"*\", end=\" \")\n",
    "        col += 1\n",
    "    print()\n",
    "    row += 1\n",
    "# Pattern 2: Hollow Rectangle\n",
    "rows = 5\n",
    "cols = 4\n",
    "row = 1\n",
    "while row <= rows:\n",
    "    col = 1\n",
    "    while col <= cols:\n",
    "        if row == 1 or row == rows or col == 1 or col == cols:\n",
    "            print(\"*\", end=\" \")\n",
    "        else:\n",
    "            print(\" \", end=\" \")\n",
    "        col += 1\n",
    "    print()\n",
    "    row += 1\n",
    "# Pattern 3: Inverted Triangle\n",
    "rows = 5\n",
    "row = 1\n",
    "\n",
    "while row <= rows:\n",
    "    col = 1\n",
    "    while col <= rows - row:\n",
    "        print(\" \", end=\" \")\n",
    "        col += 1\n",
    "\n",
    "    col = 1\n",
    "    while col <= 2 * row - 1:\n",
    "        print(\"*\", end=\" \")\n",
    "        col += 1\n",
    "\n",
    "    print()\n",
    "    row += 1\n",
    "\n"
   ]
  },
  {
   "cell_type": "code",
   "execution_count": 36,
   "metadata": {},
   "outputs": [
    {
     "name": "stdout",
     "output_type": "stream",
     "text": [
      "10\n",
      "9\n",
      "8\n",
      "7\n",
      "6\n",
      "5\n",
      "4\n",
      "3\n",
      "2\n",
      "1\n"
     ]
    }
   ],
   "source": [
    "# Display numbers from 10 to 1 using a reversed while loop\n",
    "number = 10\n",
    "\n",
    "while number >= 1:\n",
    "    print(number)\n",
    "    number -= 1"
   ]
  }
 ],
 "metadata": {
  "kernelspec": {
   "display_name": "Python 3",
   "language": "python",
   "name": "python3"
  },
  "language_info": {
   "codemirror_mode": {
    "name": "ipython",
    "version": 3
   },
   "file_extension": ".py",
   "mimetype": "text/x-python",
   "name": "python",
   "nbconvert_exporter": "python",
   "pygments_lexer": "ipython3",
   "version": "3.11.6"
  }
 },
 "nbformat": 4,
 "nbformat_minor": 2
}
